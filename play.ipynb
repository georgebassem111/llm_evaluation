{
 "cells": [
  {
   "cell_type": "code",
   "execution_count": null,
   "id": "84dc6d63",
   "metadata": {},
   "outputs": [
    {
     "ename": "",
     "evalue": "",
     "output_type": "error",
     "traceback": [
      "\u001b[1;31mRunning cells with 'llm-evaluation (Python 3.10.16)' requires the ipykernel package.\n",
      "\u001b[1;31mInstall 'ipykernel' into the Python environment. \n",
      "\u001b[1;31mCommand: 'd:/LLM/Evaluation/llm_evaluation/.venv/Scripts/python.exe -m pip install ipykernel -U --force-reinstall'"
     ]
    }
   ],
   "source": [
    "from datasets import load_from_disk\n",
    "import os"
   ]
  },
  {
   "cell_type": "code",
   "execution_count": null,
   "id": "7d33e01c",
   "metadata": {},
   "outputs": [],
   "source": [
    "#get previsous path from this script the outside of the script\n",
    "main_dir = os.path.dirname(os.path.abspath(__file__))  # Get the directory of this script\n",
    "\n",
    "save_dir = \"datasets/helaswag\"  # Local directory to save\n",
    "\n",
    "save_dir = os.path.join(main_dir, save_dir)  # Join the main directory with the save directory\n",
    "\n",
    "saved_data = load_from_disk(save_dir)"
   ]
  }
 ],
 "metadata": {
  "kernelspec": {
   "display_name": "llm-evaluation",
   "language": "python",
   "name": "python3"
  },
  "language_info": {
   "name": "python",
   "version": "3.10.16"
  }
 },
 "nbformat": 4,
 "nbformat_minor": 5
}
